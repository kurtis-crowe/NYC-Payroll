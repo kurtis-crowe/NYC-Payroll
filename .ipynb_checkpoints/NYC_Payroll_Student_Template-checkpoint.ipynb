{
 "cells": [
  {
   "cell_type": "markdown",
   "metadata": {},
   "source": [
    "# DTSC-580 Data Manipulation\n",
    "\n",
    "## Assignment:  NYC Payroll Assignment\n",
    "\n",
    "### Name:\n",
    "\n",
    "<img src=\"NYC_OpenData_Logo.png\">\n",
    "\n",
    "## Assignment Overview\n",
    "In this assignment, you will use payroll data downloaded from NYC Open Data to answer specific questions.  These questions just scratch the surface of analysis possibilities, and if you have additional time, it would be great practice to come up with questions on your own and try to answer them with the data.\n",
    "\n",
    "After you finish answering the questions using the provided data, you can then take the exam in Brightspace which will include questions from this data set plus more general questions about data aggregation, data grouping, and multi-level indexing.\n",
    "\n",
    "Note that you will not be uploading your code to CodeGrade for checking and instead will complete this assignment and use the answers to complete a quiz.\n",
    "\n",
    "## Data\n",
    "As mentioned above, this data is from [NYC Open Data](https://data.cityofnewyork.us/City-Government/Citywide-Payroll-Data-Fiscal-Year-/k397-673e) and represents NYC employees’ salary and overtime pay data.  The following is from the data dictionary that has also been included in the download files for your reference:\n",
    "\n",
    "```\n",
    "Data is collected because of public interest in how the City’s budget is being spent on salary and overtime pay for all municipal employees. Data is input into the City's Personnel Management System (“PMS”) by the respective user Agencies. Each record represents the following statistics for every city employee: Agency, Last Name, First Name, Middle Initial, Agency Start Date, Work Location Borough, Job Title Description, Leave Status as of the close of the FY (June 30th), Base Salary, Pay Basis, Regular Hours Paid, Regular Gross Paid, Overtime Hours worked, Total Overtime Paid, and Total Other Compensation (i.e. lump sum and/or retro payments). This data can be used to analyze how the City's financial resources are allocated and how much of the City's budget is being devoted to overtime. The reader of this data should be aware that increments of salary increases received over the course of any one fiscal year will not be reflected. All that is captured, is the employee's final base and gross salary at the end of the fiscal year.\n",
    "\n",
    "NOTE: As a part of FISA-OPA’s routine process for reviewing and releasing Citywide Payroll Data, data for some agencies (specifically NYC Police Department (NYPD) and the District Attorneys’ Offices (Manhattan, Kings, Queens, Richmond, Bronx, and Special Narcotics)) have been redacted since they are exempt from disclosure pursuant to the Freedom of Information Law, POL § 87(2)(f), on the ground that disclosure of the information could endanger the life and safety of the public servants listed thereon. They are further exempt from disclosure pursuant to POL § 87(2)(e)(iii), on the ground that any release of the information would identify confidential sources or disclose confidential information relating to a criminal investigation, and POL § 87(2)(e)(iv), on the ground that disclosure would reveal non-routine criminal investigative techniques or procedures.\n",
    "```\n",
    "**Important:**  The csv file is large and it may take several minutes to read the data into a DataFrame depending on your computer.  Because of the large file size, when you try to read the data, you may get a warning message about mixed data types.  To prevent this warning message, you should include a data type argument for the columns when using [pd.read_csv()](https://pandas.pydata.org/docs/reference/api/pandas.read_csv.html) to ensure that Pandas will use the appropriate data type.  See [this article](https://www.roelpeters.be/solved-dtypewarning-columns-have-mixed-types-specify-dtype-option-on-import-or-set-low-memory-in-pandas/) for more information on this warning message.\n",
    "\n"
   ]
  },
  {
   "cell_type": "code",
   "execution_count": 1,
   "metadata": {},
   "outputs": [],
   "source": [
    "# common imports\n",
    "import pandas as pd\n",
    "import numpy as np"
   ]
  },
  {
   "cell_type": "code",
   "execution_count": 2,
   "metadata": {},
   "outputs": [],
   "source": [
    "# import data - use dtype argument due to large file size\n",
    "nyc_full = pd.read_csv('NYC_Payroll_Data.csv', dtype={'Fiscal Year': 'int', 'Payroll Number': 'float', 'Agency Name': 'str',\n",
    "                                                            'Last Name': 'str','First Name': 'str','Mid Init': 'str',\n",
    "                                                            'Agency Start Date': 'str','Work Location Borough': 'str','Title Description': 'str',\n",
    "                                                            'Leave Status as of June 30': 'str','Base Salary': 'float','Pay Basis': 'str',\n",
    "                                                            'Regular Hours': 'float', 'Regular Gross Paid': 'float', 'OT Hours': 'float',\n",
    "                                                            'Total OT Paid': 'float', 'Total Other Pay': 'float'})"
   ]
  },
  {
   "cell_type": "code",
   "execution_count": 3,
   "metadata": {},
   "outputs": [],
   "source": [
    "# make copy of data so you do not need to import again if you make a mistake and need to \"reset\"\n",
    "nyc = nyc_full.copy()"
   ]
  },
  {
   "cell_type": "code",
   "execution_count": 4,
   "metadata": {},
   "outputs": [
    {
     "name": "stdout",
     "output_type": "stream",
     "text": [
      "<class 'pandas.core.frame.DataFrame'>\n",
      "RangeIndex: 4496767 entries, 0 to 4496766\n",
      "Data columns (total 17 columns):\n",
      " #   Column                      Dtype  \n",
      "---  ------                      -----  \n",
      " 0   Fiscal Year                 int32  \n",
      " 1   Payroll Number              float64\n",
      " 2   Agency Name                 object \n",
      " 3   Last Name                   object \n",
      " 4   First Name                  object \n",
      " 5   Mid Init                    object \n",
      " 6   Agency Start Date           object \n",
      " 7   Work Location Borough       object \n",
      " 8   Title Description           object \n",
      " 9   Leave Status as of June 30  object \n",
      " 10  Base Salary                 float64\n",
      " 11  Pay Basis                   object \n",
      " 12  Regular Hours               float64\n",
      " 13  Regular Gross Paid          float64\n",
      " 14  OT Hours                    float64\n",
      " 15  Total OT Paid               float64\n",
      " 16  Total Other Pay             float64\n",
      "dtypes: float64(7), int32(1), object(9)\n",
      "memory usage: 566.1+ MB\n"
     ]
    }
   ],
   "source": [
    "# check information about DataFrame\n",
    "nyc.info()"
   ]
  },
  {
   "cell_type": "code",
   "execution_count": 5,
   "metadata": {},
   "outputs": [
    {
     "data": {
      "text/html": [
       "<div>\n",
       "<style scoped>\n",
       "    .dataframe tbody tr th:only-of-type {\n",
       "        vertical-align: middle;\n",
       "    }\n",
       "\n",
       "    .dataframe tbody tr th {\n",
       "        vertical-align: top;\n",
       "    }\n",
       "\n",
       "    .dataframe thead th {\n",
       "        text-align: right;\n",
       "    }\n",
       "</style>\n",
       "<table border=\"1\" class=\"dataframe\">\n",
       "  <thead>\n",
       "    <tr style=\"text-align: right;\">\n",
       "      <th></th>\n",
       "      <th>Fiscal Year</th>\n",
       "      <th>Payroll Number</th>\n",
       "      <th>Agency Name</th>\n",
       "      <th>Last Name</th>\n",
       "      <th>First Name</th>\n",
       "      <th>Mid Init</th>\n",
       "      <th>Agency Start Date</th>\n",
       "      <th>Work Location Borough</th>\n",
       "      <th>Title Description</th>\n",
       "      <th>Leave Status as of June 30</th>\n",
       "      <th>Base Salary</th>\n",
       "      <th>Pay Basis</th>\n",
       "      <th>Regular Hours</th>\n",
       "      <th>Regular Gross Paid</th>\n",
       "      <th>OT Hours</th>\n",
       "      <th>Total OT Paid</th>\n",
       "      <th>Total Other Pay</th>\n",
       "    </tr>\n",
       "  </thead>\n",
       "  <tbody>\n",
       "    <tr>\n",
       "      <th>0</th>\n",
       "      <td>2020</td>\n",
       "      <td>17.0</td>\n",
       "      <td>OFFICE OF EMERGENCY MANAGEMENT</td>\n",
       "      <td>BEREZIN</td>\n",
       "      <td>MIKHAIL</td>\n",
       "      <td>NaN</td>\n",
       "      <td>08/10/2015</td>\n",
       "      <td>BROOKLYN</td>\n",
       "      <td>EMERGENCY PREPAREDNESS MANAGER</td>\n",
       "      <td>ACTIVE</td>\n",
       "      <td>86005.0</td>\n",
       "      <td>per Annum</td>\n",
       "      <td>1820.0</td>\n",
       "      <td>84698.21</td>\n",
       "      <td>0.0</td>\n",
       "      <td>0.0</td>\n",
       "      <td>0.0</td>\n",
       "    </tr>\n",
       "    <tr>\n",
       "      <th>1</th>\n",
       "      <td>2020</td>\n",
       "      <td>17.0</td>\n",
       "      <td>OFFICE OF EMERGENCY MANAGEMENT</td>\n",
       "      <td>GEAGER</td>\n",
       "      <td>VERONICA</td>\n",
       "      <td>M</td>\n",
       "      <td>09/12/2016</td>\n",
       "      <td>BROOKLYN</td>\n",
       "      <td>EMERGENCY PREPAREDNESS MANAGER</td>\n",
       "      <td>ACTIVE</td>\n",
       "      <td>86005.0</td>\n",
       "      <td>per Annum</td>\n",
       "      <td>1820.0</td>\n",
       "      <td>84698.21</td>\n",
       "      <td>0.0</td>\n",
       "      <td>0.0</td>\n",
       "      <td>0.0</td>\n",
       "    </tr>\n",
       "    <tr>\n",
       "      <th>2</th>\n",
       "      <td>2020</td>\n",
       "      <td>17.0</td>\n",
       "      <td>OFFICE OF EMERGENCY MANAGEMENT</td>\n",
       "      <td>RAMANI</td>\n",
       "      <td>SHRADDHA</td>\n",
       "      <td>NaN</td>\n",
       "      <td>02/22/2016</td>\n",
       "      <td>BROOKLYN</td>\n",
       "      <td>EMERGENCY PREPAREDNESS MANAGER</td>\n",
       "      <td>ACTIVE</td>\n",
       "      <td>86005.0</td>\n",
       "      <td>per Annum</td>\n",
       "      <td>1820.0</td>\n",
       "      <td>84698.21</td>\n",
       "      <td>0.0</td>\n",
       "      <td>0.0</td>\n",
       "      <td>0.0</td>\n",
       "    </tr>\n",
       "    <tr>\n",
       "      <th>3</th>\n",
       "      <td>2020</td>\n",
       "      <td>17.0</td>\n",
       "      <td>OFFICE OF EMERGENCY MANAGEMENT</td>\n",
       "      <td>ROTTA</td>\n",
       "      <td>JONATHAN</td>\n",
       "      <td>D</td>\n",
       "      <td>09/16/2013</td>\n",
       "      <td>BROOKLYN</td>\n",
       "      <td>EMERGENCY PREPAREDNESS MANAGER</td>\n",
       "      <td>ACTIVE</td>\n",
       "      <td>86005.0</td>\n",
       "      <td>per Annum</td>\n",
       "      <td>1820.0</td>\n",
       "      <td>84698.21</td>\n",
       "      <td>0.0</td>\n",
       "      <td>0.0</td>\n",
       "      <td>0.0</td>\n",
       "    </tr>\n",
       "    <tr>\n",
       "      <th>4</th>\n",
       "      <td>2020</td>\n",
       "      <td>17.0</td>\n",
       "      <td>OFFICE OF EMERGENCY MANAGEMENT</td>\n",
       "      <td>WILSON II</td>\n",
       "      <td>ROBERT</td>\n",
       "      <td>P</td>\n",
       "      <td>04/30/2018</td>\n",
       "      <td>BROOKLYN</td>\n",
       "      <td>EMERGENCY PREPAREDNESS MANAGER</td>\n",
       "      <td>ACTIVE</td>\n",
       "      <td>86005.0</td>\n",
       "      <td>per Annum</td>\n",
       "      <td>1820.0</td>\n",
       "      <td>84698.21</td>\n",
       "      <td>0.0</td>\n",
       "      <td>0.0</td>\n",
       "      <td>0.0</td>\n",
       "    </tr>\n",
       "  </tbody>\n",
       "</table>\n",
       "</div>"
      ],
      "text/plain": [
       "   Fiscal Year  Payroll Number                     Agency Name  Last Name  \\\n",
       "0         2020            17.0  OFFICE OF EMERGENCY MANAGEMENT    BEREZIN   \n",
       "1         2020            17.0  OFFICE OF EMERGENCY MANAGEMENT     GEAGER   \n",
       "2         2020            17.0  OFFICE OF EMERGENCY MANAGEMENT     RAMANI   \n",
       "3         2020            17.0  OFFICE OF EMERGENCY MANAGEMENT      ROTTA   \n",
       "4         2020            17.0  OFFICE OF EMERGENCY MANAGEMENT  WILSON II   \n",
       "\n",
       "  First Name Mid Init Agency Start Date Work Location Borough  \\\n",
       "0    MIKHAIL      NaN        08/10/2015              BROOKLYN   \n",
       "1   VERONICA        M        09/12/2016              BROOKLYN   \n",
       "2   SHRADDHA      NaN        02/22/2016              BROOKLYN   \n",
       "3   JONATHAN        D        09/16/2013              BROOKLYN   \n",
       "4     ROBERT        P        04/30/2018              BROOKLYN   \n",
       "\n",
       "                Title Description Leave Status as of June 30  Base Salary  \\\n",
       "0  EMERGENCY PREPAREDNESS MANAGER                     ACTIVE      86005.0   \n",
       "1  EMERGENCY PREPAREDNESS MANAGER                     ACTIVE      86005.0   \n",
       "2  EMERGENCY PREPAREDNESS MANAGER                     ACTIVE      86005.0   \n",
       "3  EMERGENCY PREPAREDNESS MANAGER                     ACTIVE      86005.0   \n",
       "4  EMERGENCY PREPAREDNESS MANAGER                     ACTIVE      86005.0   \n",
       "\n",
       "   Pay Basis  Regular Hours  Regular Gross Paid  OT Hours  Total OT Paid  \\\n",
       "0  per Annum         1820.0            84698.21       0.0            0.0   \n",
       "1  per Annum         1820.0            84698.21       0.0            0.0   \n",
       "2  per Annum         1820.0            84698.21       0.0            0.0   \n",
       "3  per Annum         1820.0            84698.21       0.0            0.0   \n",
       "4  per Annum         1820.0            84698.21       0.0            0.0   \n",
       "\n",
       "   Total Other Pay  \n",
       "0              0.0  \n",
       "1              0.0  \n",
       "2              0.0  \n",
       "3              0.0  \n",
       "4              0.0  "
      ]
     },
     "execution_count": 5,
     "metadata": {},
     "output_type": "execute_result"
    }
   ],
   "source": [
    "# check first five rows of data\n",
    "nyc.head()"
   ]
  },
  {
   "cell_type": "markdown",
   "metadata": {},
   "source": [
    "If you were to research the values in the DataFrame further, you will notice that there are some values in lowercase and most are listed in all uppercase.  Because of this, run the function below that will transform all characters to uppercase to be consistent with the majority of the data.  "
   ]
  },
  {
   "cell_type": "code",
   "execution_count": 6,
   "metadata": {},
   "outputs": [],
   "source": [
    "# run this code block\n",
    "def upper_case(df):\n",
    "    '''\n",
    "    Takes as input the `nyc` DataFrame. \n",
    "    Then capitlizes each character in columns with \"object\" data type.\n",
    "    '''\n",
    "    # iterating over each column in the DataFrame\n",
    "    for col in df.columns:\n",
    "        # checking datatype of each column\n",
    "        if df[col].dtype == 'object':\n",
    "            # applying upper function on column\n",
    "            df[col] = df[col].str.upper()\n",
    "\n",
    "upper_case(nyc)"
   ]
  },
  {
   "cell_type": "markdown",
   "metadata": {},
   "source": [
    "**Q1:** How many rows are contained in the full dataset?"
   ]
  },
  {
   "cell_type": "code",
   "execution_count": 7,
   "metadata": {},
   "outputs": [
    {
     "data": {
      "text/plain": [
       "4496767"
      ]
     },
     "execution_count": 7,
     "metadata": {},
     "output_type": "execute_result"
    }
   ],
   "source": [
    "nyc.shape[0]"
   ]
  },
  {
   "cell_type": "markdown",
   "metadata": {},
   "source": [
    "*Note:  Most of the following questions refer to the 2021 fiscal year data.  It might help if you create a new DataFrame for only 2021 data.*"
   ]
  },
  {
   "cell_type": "code",
   "execution_count": 8,
   "metadata": {},
   "outputs": [
    {
     "data": {
      "text/html": [
       "<div>\n",
       "<style scoped>\n",
       "    .dataframe tbody tr th:only-of-type {\n",
       "        vertical-align: middle;\n",
       "    }\n",
       "\n",
       "    .dataframe tbody tr th {\n",
       "        vertical-align: top;\n",
       "    }\n",
       "\n",
       "    .dataframe thead th {\n",
       "        text-align: right;\n",
       "    }\n",
       "</style>\n",
       "<table border=\"1\" class=\"dataframe\">\n",
       "  <thead>\n",
       "    <tr style=\"text-align: right;\">\n",
       "      <th></th>\n",
       "      <th>Fiscal Year</th>\n",
       "      <th>Payroll Number</th>\n",
       "      <th>Agency Name</th>\n",
       "      <th>Last Name</th>\n",
       "      <th>First Name</th>\n",
       "      <th>Mid Init</th>\n",
       "      <th>Agency Start Date</th>\n",
       "      <th>Work Location Borough</th>\n",
       "      <th>Title Description</th>\n",
       "      <th>Leave Status as of June 30</th>\n",
       "      <th>Base Salary</th>\n",
       "      <th>Pay Basis</th>\n",
       "      <th>Regular Hours</th>\n",
       "      <th>Regular Gross Paid</th>\n",
       "      <th>OT Hours</th>\n",
       "      <th>Total OT Paid</th>\n",
       "      <th>Total Other Pay</th>\n",
       "    </tr>\n",
       "  </thead>\n",
       "  <tbody>\n",
       "    <tr>\n",
       "      <th>3923290</th>\n",
       "      <td>2021</td>\n",
       "      <td>996.0</td>\n",
       "      <td>NYC HOUSING AUTHORITY</td>\n",
       "      <td>MUSTACIUOLO</td>\n",
       "      <td>VITO</td>\n",
       "      <td>J</td>\n",
       "      <td>02/26/2018</td>\n",
       "      <td>MANHATTAN</td>\n",
       "      <td>EXECUTIVE DIRECTOR</td>\n",
       "      <td>ACTIVE</td>\n",
       "      <td>258000.0</td>\n",
       "      <td>PER ANNUM</td>\n",
       "      <td>1820.0</td>\n",
       "      <td>257260.30</td>\n",
       "      <td>0.00</td>\n",
       "      <td>0.00</td>\n",
       "      <td>258000.00</td>\n",
       "    </tr>\n",
       "    <tr>\n",
       "      <th>3923291</th>\n",
       "      <td>2021</td>\n",
       "      <td>996.0</td>\n",
       "      <td>NYC HOUSING AUTHORITY</td>\n",
       "      <td>RUSS</td>\n",
       "      <td>GREGORY</td>\n",
       "      <td>P</td>\n",
       "      <td>08/12/2019</td>\n",
       "      <td>MANHATTAN</td>\n",
       "      <td>CHAIR</td>\n",
       "      <td>ACTIVE</td>\n",
       "      <td>414707.0</td>\n",
       "      <td>PER ANNUM</td>\n",
       "      <td>1820.0</td>\n",
       "      <td>413518.05</td>\n",
       "      <td>0.00</td>\n",
       "      <td>0.00</td>\n",
       "      <td>500.00</td>\n",
       "    </tr>\n",
       "    <tr>\n",
       "      <th>3923292</th>\n",
       "      <td>2021</td>\n",
       "      <td>816.0</td>\n",
       "      <td>DEPT OF HEALTH/MENTAL HYGIENE</td>\n",
       "      <td>MCGROARTY</td>\n",
       "      <td>MICHAEL</td>\n",
       "      <td>NaN</td>\n",
       "      <td>10/06/2014</td>\n",
       "      <td>QUEENS</td>\n",
       "      <td>STATIONARY ENGINEER</td>\n",
       "      <td>ACTIVE</td>\n",
       "      <td>508.8</td>\n",
       "      <td>PER DAY</td>\n",
       "      <td>2080.0</td>\n",
       "      <td>132288.00</td>\n",
       "      <td>2374.75</td>\n",
       "      <td>238829.13</td>\n",
       "      <td>40105.00</td>\n",
       "    </tr>\n",
       "    <tr>\n",
       "      <th>3923293</th>\n",
       "      <td>2021</td>\n",
       "      <td>816.0</td>\n",
       "      <td>DEPT OF HEALTH/MENTAL HYGIENE</td>\n",
       "      <td>HALLAHAN</td>\n",
       "      <td>PATRICK</td>\n",
       "      <td>M</td>\n",
       "      <td>02/26/2018</td>\n",
       "      <td>BROOKLYN</td>\n",
       "      <td>STATIONARY ENGINEER</td>\n",
       "      <td>ACTIVE</td>\n",
       "      <td>508.8</td>\n",
       "      <td>PER DAY</td>\n",
       "      <td>2080.0</td>\n",
       "      <td>132288.00</td>\n",
       "      <td>2115.25</td>\n",
       "      <td>218628.18</td>\n",
       "      <td>56616.07</td>\n",
       "    </tr>\n",
       "    <tr>\n",
       "      <th>3923294</th>\n",
       "      <td>2021</td>\n",
       "      <td>816.0</td>\n",
       "      <td>DEPT OF HEALTH/MENTAL HYGIENE</td>\n",
       "      <td>PETTIT</td>\n",
       "      <td>PATRICK</td>\n",
       "      <td>J</td>\n",
       "      <td>08/02/2010</td>\n",
       "      <td>MANHATTAN</td>\n",
       "      <td>STATIONARY ENGINEER</td>\n",
       "      <td>ACTIVE</td>\n",
       "      <td>508.8</td>\n",
       "      <td>PER DAY</td>\n",
       "      <td>2080.0</td>\n",
       "      <td>132288.00</td>\n",
       "      <td>2152.75</td>\n",
       "      <td>218694.96</td>\n",
       "      <td>38611.82</td>\n",
       "    </tr>\n",
       "    <tr>\n",
       "      <th>...</th>\n",
       "      <td>...</td>\n",
       "      <td>...</td>\n",
       "      <td>...</td>\n",
       "      <td>...</td>\n",
       "      <td>...</td>\n",
       "      <td>...</td>\n",
       "      <td>...</td>\n",
       "      <td>...</td>\n",
       "      <td>...</td>\n",
       "      <td>...</td>\n",
       "      <td>...</td>\n",
       "      <td>...</td>\n",
       "      <td>...</td>\n",
       "      <td>...</td>\n",
       "      <td>...</td>\n",
       "      <td>...</td>\n",
       "      <td>...</td>\n",
       "    </tr>\n",
       "    <tr>\n",
       "      <th>4496762</th>\n",
       "      <td>2021</td>\n",
       "      <td>742.0</td>\n",
       "      <td>DEPT OF ED PEDAGOGICAL</td>\n",
       "      <td>BURGAN</td>\n",
       "      <td>WYLIE</td>\n",
       "      <td>G</td>\n",
       "      <td>10/01/1986</td>\n",
       "      <td>OTHER</td>\n",
       "      <td>ASSISTANT PRINCIPAL</td>\n",
       "      <td>CEASED</td>\n",
       "      <td>124800.0</td>\n",
       "      <td>PER ANNUM</td>\n",
       "      <td>0.0</td>\n",
       "      <td>0.00</td>\n",
       "      <td>0.00</td>\n",
       "      <td>0.00</td>\n",
       "      <td>-71916.37</td>\n",
       "    </tr>\n",
       "    <tr>\n",
       "      <th>4496763</th>\n",
       "      <td>2021</td>\n",
       "      <td>902.0</td>\n",
       "      <td>BRONX DISTRICT ATTORNEY</td>\n",
       "      <td>SIMMONS</td>\n",
       "      <td>NATHANIEL</td>\n",
       "      <td>NaN</td>\n",
       "      <td>07/02/1990</td>\n",
       "      <td>BRONX</td>\n",
       "      <td>SPECIAL ASSISTANT TO THE DISTRICT ATTORNEY</td>\n",
       "      <td>CEASED</td>\n",
       "      <td>110000.0</td>\n",
       "      <td>PER ANNUM</td>\n",
       "      <td>-70.0</td>\n",
       "      <td>-4207.65</td>\n",
       "      <td>0.00</td>\n",
       "      <td>0.00</td>\n",
       "      <td>-75440.00</td>\n",
       "    </tr>\n",
       "    <tr>\n",
       "      <th>4496764</th>\n",
       "      <td>2021</td>\n",
       "      <td>742.0</td>\n",
       "      <td>DEPT OF ED PEDAGOGICAL</td>\n",
       "      <td>ROBERTSON</td>\n",
       "      <td>BRENDA</td>\n",
       "      <td>L</td>\n",
       "      <td>10/15/1985</td>\n",
       "      <td>OTHER</td>\n",
       "      <td>ASSISTANT PRINCIPAL</td>\n",
       "      <td>CEASED</td>\n",
       "      <td>126061.0</td>\n",
       "      <td>PER ANNUM</td>\n",
       "      <td>0.0</td>\n",
       "      <td>0.00</td>\n",
       "      <td>0.00</td>\n",
       "      <td>0.00</td>\n",
       "      <td>-87436.13</td>\n",
       "    </tr>\n",
       "    <tr>\n",
       "      <th>4496765</th>\n",
       "      <td>2021</td>\n",
       "      <td>742.0</td>\n",
       "      <td>DEPT OF ED PEDAGOGICAL</td>\n",
       "      <td>BECKHAM</td>\n",
       "      <td>DOLORES</td>\n",
       "      <td>NaN</td>\n",
       "      <td>11/04/1977</td>\n",
       "      <td>OTHER</td>\n",
       "      <td>PRINCIPAL</td>\n",
       "      <td>CEASED</td>\n",
       "      <td>159609.0</td>\n",
       "      <td>PER ANNUM</td>\n",
       "      <td>0.0</td>\n",
       "      <td>0.00</td>\n",
       "      <td>0.00</td>\n",
       "      <td>0.00</td>\n",
       "      <td>-97608.11</td>\n",
       "    </tr>\n",
       "    <tr>\n",
       "      <th>4496766</th>\n",
       "      <td>2021</td>\n",
       "      <td>740.0</td>\n",
       "      <td>DEPARTMENT OF EDUCATION ADMIN</td>\n",
       "      <td>CORLETT</td>\n",
       "      <td>SEAN</td>\n",
       "      <td>NaN</td>\n",
       "      <td>09/15/2013</td>\n",
       "      <td>MANHATTAN</td>\n",
       "      <td>ADMINISTRATIVE EDUCATION OFFICER</td>\n",
       "      <td>CEASED</td>\n",
       "      <td>143262.0</td>\n",
       "      <td>PER ANNUM</td>\n",
       "      <td>0.0</td>\n",
       "      <td>-117989.06</td>\n",
       "      <td>0.00</td>\n",
       "      <td>0.00</td>\n",
       "      <td>0.00</td>\n",
       "    </tr>\n",
       "  </tbody>\n",
       "</table>\n",
       "<p>573477 rows × 17 columns</p>\n",
       "</div>"
      ],
      "text/plain": [
       "         Fiscal Year  Payroll Number                    Agency Name  \\\n",
       "3923290         2021           996.0          NYC HOUSING AUTHORITY   \n",
       "3923291         2021           996.0          NYC HOUSING AUTHORITY   \n",
       "3923292         2021           816.0  DEPT OF HEALTH/MENTAL HYGIENE   \n",
       "3923293         2021           816.0  DEPT OF HEALTH/MENTAL HYGIENE   \n",
       "3923294         2021           816.0  DEPT OF HEALTH/MENTAL HYGIENE   \n",
       "...              ...             ...                            ...   \n",
       "4496762         2021           742.0         DEPT OF ED PEDAGOGICAL   \n",
       "4496763         2021           902.0        BRONX DISTRICT ATTORNEY   \n",
       "4496764         2021           742.0         DEPT OF ED PEDAGOGICAL   \n",
       "4496765         2021           742.0         DEPT OF ED PEDAGOGICAL   \n",
       "4496766         2021           740.0  DEPARTMENT OF EDUCATION ADMIN   \n",
       "\n",
       "           Last Name First Name Mid Init Agency Start Date  \\\n",
       "3923290  MUSTACIUOLO       VITO        J        02/26/2018   \n",
       "3923291         RUSS    GREGORY        P        08/12/2019   \n",
       "3923292    MCGROARTY    MICHAEL      NaN        10/06/2014   \n",
       "3923293     HALLAHAN    PATRICK        M        02/26/2018   \n",
       "3923294       PETTIT    PATRICK        J        08/02/2010   \n",
       "...              ...        ...      ...               ...   \n",
       "4496762       BURGAN      WYLIE        G        10/01/1986   \n",
       "4496763      SIMMONS  NATHANIEL      NaN        07/02/1990   \n",
       "4496764    ROBERTSON     BRENDA        L        10/15/1985   \n",
       "4496765      BECKHAM    DOLORES      NaN        11/04/1977   \n",
       "4496766      CORLETT       SEAN      NaN        09/15/2013   \n",
       "\n",
       "        Work Location Borough                           Title Description  \\\n",
       "3923290             MANHATTAN                          EXECUTIVE DIRECTOR   \n",
       "3923291             MANHATTAN                                       CHAIR   \n",
       "3923292                QUEENS                         STATIONARY ENGINEER   \n",
       "3923293              BROOKLYN                         STATIONARY ENGINEER   \n",
       "3923294             MANHATTAN                         STATIONARY ENGINEER   \n",
       "...                       ...                                         ...   \n",
       "4496762                 OTHER                         ASSISTANT PRINCIPAL   \n",
       "4496763                 BRONX  SPECIAL ASSISTANT TO THE DISTRICT ATTORNEY   \n",
       "4496764                 OTHER                         ASSISTANT PRINCIPAL   \n",
       "4496765                 OTHER                                   PRINCIPAL   \n",
       "4496766             MANHATTAN            ADMINISTRATIVE EDUCATION OFFICER   \n",
       "\n",
       "        Leave Status as of June 30  Base Salary  Pay Basis  Regular Hours  \\\n",
       "3923290                     ACTIVE     258000.0  PER ANNUM         1820.0   \n",
       "3923291                     ACTIVE     414707.0  PER ANNUM         1820.0   \n",
       "3923292                     ACTIVE        508.8    PER DAY         2080.0   \n",
       "3923293                     ACTIVE        508.8    PER DAY         2080.0   \n",
       "3923294                     ACTIVE        508.8    PER DAY         2080.0   \n",
       "...                            ...          ...        ...            ...   \n",
       "4496762                     CEASED     124800.0  PER ANNUM            0.0   \n",
       "4496763                     CEASED     110000.0  PER ANNUM          -70.0   \n",
       "4496764                     CEASED     126061.0  PER ANNUM            0.0   \n",
       "4496765                     CEASED     159609.0  PER ANNUM            0.0   \n",
       "4496766                     CEASED     143262.0  PER ANNUM            0.0   \n",
       "\n",
       "         Regular Gross Paid  OT Hours  Total OT Paid  Total Other Pay  \n",
       "3923290           257260.30      0.00           0.00        258000.00  \n",
       "3923291           413518.05      0.00           0.00           500.00  \n",
       "3923292           132288.00   2374.75      238829.13         40105.00  \n",
       "3923293           132288.00   2115.25      218628.18         56616.07  \n",
       "3923294           132288.00   2152.75      218694.96         38611.82  \n",
       "...                     ...       ...            ...              ...  \n",
       "4496762                0.00      0.00           0.00        -71916.37  \n",
       "4496763            -4207.65      0.00           0.00        -75440.00  \n",
       "4496764                0.00      0.00           0.00        -87436.13  \n",
       "4496765                0.00      0.00           0.00        -97608.11  \n",
       "4496766          -117989.06      0.00           0.00             0.00  \n",
       "\n",
       "[573477 rows x 17 columns]"
      ]
     },
     "execution_count": 8,
     "metadata": {},
     "output_type": "execute_result"
    }
   ],
   "source": [
    "nyc_2021 = nyc[nyc['Fiscal Year'] == 2021]\n",
    "nyc_2021"
   ]
  },
  {
   "cell_type": "markdown",
   "metadata": {},
   "source": [
    "**Q2:** How many individuals are represented using only the 2021 fiscal year data?"
   ]
  },
  {
   "cell_type": "code",
   "execution_count": 9,
   "metadata": {},
   "outputs": [
    {
     "data": {
      "text/plain": [
       "681019"
      ]
     },
     "execution_count": 9,
     "metadata": {},
     "output_type": "execute_result"
    }
   ],
   "source": [
    "### ENTER CODE HERE #### Check for duplicates in Last Name and First Name columns\n",
    "is_duplicate = nyc.duplicated(subset=['Last Name', 'First Name'])\n",
    "\n",
    "# Create new DataFrame without duplicates\n",
    "rep = nyc[~is_duplicate].copy()\n",
    "rep.shape[0]"
   ]
  },
  {
   "cell_type": "markdown",
   "metadata": {},
   "source": [
    "**Q3:** Who had the highest base salary in 2021?  What was his/her base salary?  What Agency did he/she work for?  What was his/her title?"
   ]
  },
  {
   "cell_type": "code",
   "execution_count": 10,
   "metadata": {},
   "outputs": [
    {
     "data": {
      "text/html": [
       "<div>\n",
       "<style scoped>\n",
       "    .dataframe tbody tr th:only-of-type {\n",
       "        vertical-align: middle;\n",
       "    }\n",
       "\n",
       "    .dataframe tbody tr th {\n",
       "        vertical-align: top;\n",
       "    }\n",
       "\n",
       "    .dataframe thead th {\n",
       "        text-align: right;\n",
       "    }\n",
       "</style>\n",
       "<table border=\"1\" class=\"dataframe\">\n",
       "  <thead>\n",
       "    <tr style=\"text-align: right;\">\n",
       "      <th></th>\n",
       "      <th>First Name</th>\n",
       "      <th>Last Name</th>\n",
       "      <th>Title Description</th>\n",
       "      <th>Base Salary</th>\n",
       "    </tr>\n",
       "  </thead>\n",
       "  <tbody>\n",
       "    <tr>\n",
       "      <th>3923291</th>\n",
       "      <td>GREGORY</td>\n",
       "      <td>RUSS</td>\n",
       "      <td>CHAIR</td>\n",
       "      <td>414707.0</td>\n",
       "    </tr>\n",
       "  </tbody>\n",
       "</table>\n",
       "</div>"
      ],
      "text/plain": [
       "        First Name Last Name Title Description  Base Salary\n",
       "3923291    GREGORY      RUSS             CHAIR     414707.0"
      ]
     },
     "execution_count": 10,
     "metadata": {},
     "output_type": "execute_result"
    }
   ],
   "source": [
    "highest_paid = nyc_2021.nlargest(1, 'Base Salary', keep='all')[['First Name', 'Last Name', 'Title Description', 'Base Salary']]\n",
    "highest_paid"
   ]
  },
  {
   "cell_type": "markdown",
   "metadata": {},
   "source": [
    "**Q4:** List the top 5 employees with the highest regular gross pay in 2021."
   ]
  },
  {
   "cell_type": "code",
   "execution_count": 38,
   "metadata": {},
   "outputs": [
    {
     "data": {
      "text/html": [
       "<div>\n",
       "<style scoped>\n",
       "    .dataframe tbody tr th:only-of-type {\n",
       "        vertical-align: middle;\n",
       "    }\n",
       "\n",
       "    .dataframe tbody tr th {\n",
       "        vertical-align: top;\n",
       "    }\n",
       "\n",
       "    .dataframe thead th {\n",
       "        text-align: right;\n",
       "    }\n",
       "</style>\n",
       "<table border=\"1\" class=\"dataframe\">\n",
       "  <thead>\n",
       "    <tr style=\"text-align: right;\">\n",
       "      <th></th>\n",
       "      <th>First Name</th>\n",
       "      <th>Last Name</th>\n",
       "      <th>Agency Name</th>\n",
       "    </tr>\n",
       "  </thead>\n",
       "  <tbody>\n",
       "    <tr>\n",
       "      <th>3923291</th>\n",
       "      <td>GREGORY</td>\n",
       "      <td>RUSS</td>\n",
       "      <td>NYC HOUSING AUTHORITY</td>\n",
       "    </tr>\n",
       "    <tr>\n",
       "      <th>3923299</th>\n",
       "      <td>ALEXIS</td>\n",
       "      <td>DONE</td>\n",
       "      <td>OFFICE OF THE COMPTROLLER</td>\n",
       "    </tr>\n",
       "    <tr>\n",
       "      <th>3923304</th>\n",
       "      <td>EDWARD</td>\n",
       "      <td>OKORO</td>\n",
       "      <td>ADMIN FOR CHILDREN'S SVCS</td>\n",
       "    </tr>\n",
       "    <tr>\n",
       "      <th>3923321</th>\n",
       "      <td>SHERRY</td>\n",
       "      <td>CHAN</td>\n",
       "      <td>OFFICE OF THE ACTUARY</td>\n",
       "    </tr>\n",
       "    <tr>\n",
       "      <th>3923329</th>\n",
       "      <td>MICHAEL</td>\n",
       "      <td>HADDAD</td>\n",
       "      <td>OFFICE OF THE COMPTROLLER</td>\n",
       "    </tr>\n",
       "  </tbody>\n",
       "</table>\n",
       "</div>"
      ],
      "text/plain": [
       "        First Name Last Name                Agency Name\n",
       "3923291    GREGORY      RUSS      NYC HOUSING AUTHORITY\n",
       "3923299     ALEXIS      DONE  OFFICE OF THE COMPTROLLER\n",
       "3923304     EDWARD     OKORO  ADMIN FOR CHILDREN'S SVCS\n",
       "3923321     SHERRY      CHAN      OFFICE OF THE ACTUARY\n",
       "3923329    MICHAEL    HADDAD  OFFICE OF THE COMPTROLLER"
      ]
     },
     "execution_count": 38,
     "metadata": {},
     "output_type": "execute_result"
    }
   ],
   "source": [
    "top_5 = nyc_2021.nlargest(5, 'Regular Gross Paid')[['First Name', 'Last Name', 'Agency Name']]\n",
    "top_5"
   ]
  },
  {
   "cell_type": "markdown",
   "metadata": {},
   "source": [
    "**Q5:** Which employee had the highest total OT paid in 2021?"
   ]
  },
  {
   "cell_type": "code",
   "execution_count": 12,
   "metadata": {},
   "outputs": [
    {
     "data": {
      "text/html": [
       "<div>\n",
       "<style scoped>\n",
       "    .dataframe tbody tr th:only-of-type {\n",
       "        vertical-align: middle;\n",
       "    }\n",
       "\n",
       "    .dataframe tbody tr th {\n",
       "        vertical-align: top;\n",
       "    }\n",
       "\n",
       "    .dataframe thead th {\n",
       "        text-align: right;\n",
       "    }\n",
       "</style>\n",
       "<table border=\"1\" class=\"dataframe\">\n",
       "  <thead>\n",
       "    <tr style=\"text-align: right;\">\n",
       "      <th></th>\n",
       "      <th>First Name</th>\n",
       "      <th>Last Name</th>\n",
       "      <th>Total OT Paid</th>\n",
       "    </tr>\n",
       "  </thead>\n",
       "  <tbody>\n",
       "    <tr>\n",
       "      <th>3923298</th>\n",
       "      <td>ROBERT</td>\n",
       "      <td>PROCIDA</td>\n",
       "      <td>248749.72</td>\n",
       "    </tr>\n",
       "  </tbody>\n",
       "</table>\n",
       "</div>"
      ],
      "text/plain": [
       "        First Name Last Name  Total OT Paid\n",
       "3923298     ROBERT   PROCIDA      248749.72"
      ]
     },
     "execution_count": 12,
     "metadata": {},
     "output_type": "execute_result"
    }
   ],
   "source": [
    "h_ot = nyc_2021.nlargest(1, 'Total OT Paid')[['First Name', 'Last Name', 'Total OT Paid']]\n",
    "h_ot"
   ]
  },
  {
   "cell_type": "markdown",
   "metadata": {},
   "source": [
    "**Q6:**  According to the Data Dictionary, an employee's total gross pay is equal to the sum of their regular gross pay, total overtime pay, and total other pay.  Create a column called `Total Gross Paid` in the `nyc` DataFrame that sums those three respective pay columns for each employee.  \n",
    "\n",
    "*Note: After adding this column to the `nyc` DataFrame, I would suggest that you overwrite your 2021 DataFrame again with only 2021 data to make it easier to answer the questions below.*\n",
    "\n",
    "Which 10 individuals had the highest total gross pay in 2021? "
   ]
  },
  {
   "cell_type": "code",
   "execution_count": 13,
   "metadata": {},
   "outputs": [
    {
     "data": {
      "text/html": [
       "<div>\n",
       "<style scoped>\n",
       "    .dataframe tbody tr th:only-of-type {\n",
       "        vertical-align: middle;\n",
       "    }\n",
       "\n",
       "    .dataframe tbody tr th {\n",
       "        vertical-align: top;\n",
       "    }\n",
       "\n",
       "    .dataframe thead th {\n",
       "        text-align: right;\n",
       "    }\n",
       "</style>\n",
       "<table border=\"1\" class=\"dataframe\">\n",
       "  <thead>\n",
       "    <tr style=\"text-align: right;\">\n",
       "      <th></th>\n",
       "      <th>First Name</th>\n",
       "      <th>Last Name</th>\n",
       "      <th>total_gross</th>\n",
       "    </tr>\n",
       "  </thead>\n",
       "  <tbody>\n",
       "    <tr>\n",
       "      <th>3923290</th>\n",
       "      <td>VITO</td>\n",
       "      <td>MUSTACIUOLO</td>\n",
       "      <td>515260.30</td>\n",
       "    </tr>\n",
       "    <tr>\n",
       "      <th>3923291</th>\n",
       "      <td>GREGORY</td>\n",
       "      <td>RUSS</td>\n",
       "      <td>414018.05</td>\n",
       "    </tr>\n",
       "    <tr>\n",
       "      <th>3923292</th>\n",
       "      <td>MICHAEL</td>\n",
       "      <td>MCGROARTY</td>\n",
       "      <td>411222.13</td>\n",
       "    </tr>\n",
       "    <tr>\n",
       "      <th>3923293</th>\n",
       "      <td>PATRICK</td>\n",
       "      <td>HALLAHAN</td>\n",
       "      <td>407532.25</td>\n",
       "    </tr>\n",
       "    <tr>\n",
       "      <th>3923294</th>\n",
       "      <td>PATRICK</td>\n",
       "      <td>PETTIT</td>\n",
       "      <td>389594.78</td>\n",
       "    </tr>\n",
       "    <tr>\n",
       "      <th>3923295</th>\n",
       "      <td>STEPHEN</td>\n",
       "      <td>TELEHANY</td>\n",
       "      <td>375744.39</td>\n",
       "    </tr>\n",
       "    <tr>\n",
       "      <th>3923296</th>\n",
       "      <td>SCOTT</td>\n",
       "      <td>EVENBECK</td>\n",
       "      <td>366923.01</td>\n",
       "    </tr>\n",
       "    <tr>\n",
       "      <th>3923297</th>\n",
       "      <td>NaN</td>\n",
       "      <td>NaN</td>\n",
       "      <td>358349.38</td>\n",
       "    </tr>\n",
       "    <tr>\n",
       "      <th>3923298</th>\n",
       "      <td>ROBERT</td>\n",
       "      <td>PROCIDA</td>\n",
       "      <td>356592.86</td>\n",
       "    </tr>\n",
       "    <tr>\n",
       "      <th>3923299</th>\n",
       "      <td>ALEXIS</td>\n",
       "      <td>DONE</td>\n",
       "      <td>349014.96</td>\n",
       "    </tr>\n",
       "  </tbody>\n",
       "</table>\n",
       "</div>"
      ],
      "text/plain": [
       "        First Name    Last Name  total_gross\n",
       "3923290       VITO  MUSTACIUOLO    515260.30\n",
       "3923291    GREGORY         RUSS    414018.05\n",
       "3923292    MICHAEL    MCGROARTY    411222.13\n",
       "3923293    PATRICK     HALLAHAN    407532.25\n",
       "3923294    PATRICK       PETTIT    389594.78\n",
       "3923295    STEPHEN     TELEHANY    375744.39\n",
       "3923296      SCOTT     EVENBECK    366923.01\n",
       "3923297        NaN          NaN    358349.38\n",
       "3923298     ROBERT      PROCIDA    356592.86\n",
       "3923299     ALEXIS         DONE    349014.96"
      ]
     },
     "execution_count": 13,
     "metadata": {},
     "output_type": "execute_result"
    }
   ],
   "source": [
    "nyc['total_gross'] = nyc['Regular Gross Paid'] + nyc['Total OT Paid'] + nyc['Total Other Pay']\n",
    "new_nyc_2021 = nyc[nyc['Fiscal Year'] == 2021].drop_duplicates(subset=['Last Name', 'First Name'])\n",
    "\n",
    "\n",
    "#top 10\n",
    "top_10 = new_nyc_2021.nlargest(10, 'total_gross')[['First Name', 'Last Name', 'total_gross']]\n",
    "\n",
    "top_10"
   ]
  },
  {
   "cell_type": "markdown",
   "metadata": {},
   "source": [
    "**Q7:** What is the average and median total gross pay for all individuals in 2021?"
   ]
  },
  {
   "cell_type": "code",
   "execution_count": 14,
   "metadata": {},
   "outputs": [
    {
     "data": {
      "text/plain": [
       "67164.70919392379"
      ]
     },
     "execution_count": 14,
     "metadata": {},
     "output_type": "execute_result"
    }
   ],
   "source": [
    "# Find the average and median for total_gross column in nyc\n",
    "average_total_gross = new_nyc_2021['total_gross'].mean()\n",
    "average_total_gross"
   ]
  },
  {
   "cell_type": "code",
   "execution_count": 15,
   "metadata": {},
   "outputs": [
    {
     "data": {
      "text/plain": [
       "64207.19"
      ]
     },
     "execution_count": 15,
     "metadata": {},
     "output_type": "execute_result"
    }
   ],
   "source": [
    "median_total_gross = new_nyc_2021['total_gross'].median()\n",
    "median_total_gross"
   ]
  },
  {
   "cell_type": "markdown",
   "metadata": {},
   "source": [
    "**Q8:** How many different agencies are represented in the 2021 data? "
   ]
  },
  {
   "cell_type": "code",
   "execution_count": 16,
   "metadata": {},
   "outputs": [
    {
     "data": {
      "text/plain": [
       "155"
      ]
     },
     "execution_count": 16,
     "metadata": {},
     "output_type": "execute_result"
    }
   ],
   "source": [
    "new_nyc_2021[\"Agency Name\"].nunique()\n"
   ]
  },
  {
   "cell_type": "markdown",
   "metadata": {},
   "source": [
    "**Q9:** What agencies had the highest and lowest median total gross pay in 2021?"
   ]
  },
  {
   "cell_type": "code",
   "execution_count": 17,
   "metadata": {},
   "outputs": [
    {
     "data": {
      "text/plain": [
       "Agency Name\n",
       "BROOKLYN COMMUNITY BOARD #18      180396.570\n",
       "DOE CUSTODIAL PAYROL              130749.470\n",
       "FINANCIAL INFO SVCS AGENCY        121308.000\n",
       "OFFICE OF COLLECTIVE BARGAININ    117705.070\n",
       "DEPARTMENT OF SANITATION          112990.065\n",
       "                                     ...    \n",
       "DEPT OF ED PER DIEM TEACHERS       15154.460\n",
       "PUBLIC SERVICE CORPS                4126.810\n",
       "PERSONNEL MONITORS                  2088.000\n",
       "DEPT OF ED PER SESSION TEACHER       581.800\n",
       "BOARD OF ELECTION POLL WORKERS       350.000\n",
       "Name: total_gross, Length: 155, dtype: float64"
      ]
     },
     "execution_count": 17,
     "metadata": {},
     "output_type": "execute_result"
    }
   ],
   "source": [
    "highest_median_agency = new_nyc_2021.groupby('Agency Name')['total_gross'].median().sort_values(ascending=False)\n",
    "\n",
    "highest_median_agency"
   ]
  },
  {
   "cell_type": "code",
   "execution_count": 18,
   "metadata": {},
   "outputs": [
    {
     "data": {
      "text/plain": [
       "Agency Name\n",
       "BOARD OF ELECTION POLL WORKERS       350.000\n",
       "DEPT OF ED PER SESSION TEACHER       581.800\n",
       "PERSONNEL MONITORS                  2088.000\n",
       "PUBLIC SERVICE CORPS                4126.810\n",
       "DEPT OF ED PER DIEM TEACHERS       15154.460\n",
       "                                     ...    \n",
       "DEPARTMENT OF SANITATION          112990.065\n",
       "OFFICE OF COLLECTIVE BARGAININ    117705.070\n",
       "FINANCIAL INFO SVCS AGENCY        121308.000\n",
       "DOE CUSTODIAL PAYROL              130749.470\n",
       "BROOKLYN COMMUNITY BOARD #18      180396.570\n",
       "Name: total_gross, Length: 155, dtype: float64"
      ]
     },
     "execution_count": 18,
     "metadata": {},
     "output_type": "execute_result"
    }
   ],
   "source": [
    "lowest_median_agency = new_nyc_2021.groupby('Agency Name')['total_gross'].median().sort_values(ascending=True)\n",
    "lowest_median_agency"
   ]
  },
  {
   "cell_type": "markdown",
   "metadata": {},
   "source": [
    "**Q10:** How much did Mayor Bill de Blasio make in 2021 (total gross pay)?  Who had the highest total gross pay in the Mayor's office? When was Mayor Bill de Blasio's start date in the Mayor's office?   "
   ]
  },
  {
   "cell_type": "code",
   "execution_count": 19,
   "metadata": {},
   "outputs": [
    {
     "name": "stderr",
     "output_type": "stream",
     "text": [
      "C:\\Users\\jeromy\\AppData\\Local\\Temp\\ipykernel_6684\\2358816361.py:1: UserWarning: Boolean Series key will be reindexed to match DataFrame index.\n",
      "  mayor_data = new_nyc_2021[(new_nyc_2021['First Name'] == 'BILL') & (nyc['Last Name'] == 'DE BLASIO')]\n"
     ]
    },
    {
     "data": {
      "text/plain": [
       "Fiscal Year                                  2021\n",
       "Payroll Number                                2.0\n",
       "Agency Name                   OFFICE OF THE MAYOR\n",
       "Last Name                               DE BLASIO\n",
       "First Name                                   BILL\n",
       "Mid Init                                      NaN\n",
       "Agency Start Date                      01/01/2014\n",
       "Work Location Borough                   MANHATTAN\n",
       "Title Description                           MAYOR\n",
       "Leave Status as of June 30                 ACTIVE\n",
       "Base Salary                              258750.0\n",
       "Pay Basis                               PER ANNUM\n",
       "Regular Hours                              1820.0\n",
       "Regular Gross Paid                      258021.79\n",
       "OT Hours                                      0.0\n",
       "Total OT Paid                                 0.0\n",
       "Total Other Pay                           -4956.9\n",
       "total_gross                             253064.89\n",
       "Name: 3923481, dtype: object"
      ]
     },
     "execution_count": 19,
     "metadata": {},
     "output_type": "execute_result"
    }
   ],
   "source": [
    "mayor_data = new_nyc_2021[(new_nyc_2021['First Name'] == 'BILL') & (nyc['Last Name'] == 'DE BLASIO')]\n",
    "\n",
    "mayor_data\n",
    "\n",
    "mayor_df = new_nyc_2021[new_nyc_2021['Title Description'] == 'MAYOR']\n",
    "highest_gross_mayor = mayor_df.loc[mayor_df['total_gross'].idxmax()]\n",
    "\n",
    "highest_gross_mayor"
   ]
  },
  {
   "cell_type": "markdown",
   "metadata": {},
   "source": [
    "**Q11:** What was the average base salary per work location in 2021?"
   ]
  },
  {
   "cell_type": "code",
   "execution_count": 20,
   "metadata": {},
   "outputs": [
    {
     "name": "stdout",
     "output_type": "stream",
     "text": [
      "Work Location Borough\n",
      "WASHINGTON DC    148455.000000\n",
      "OTHER            120861.046379\n",
      "ALBANY            91296.344000\n",
      "ULSTER            80847.784311\n",
      "SULLIVAN          72093.900862\n",
      "SCHOHARIE         70540.703704\n",
      "NASSAU            70277.437500\n",
      "GREENE            69968.115000\n",
      "WESTCHESTER       69583.711690\n",
      "DELAWARE          65116.295797\n",
      "PUTNAM            63605.581667\n",
      "QUEENS            62626.092836\n",
      "BROOKLYN          61852.854408\n",
      "RICHMOND          61191.629269\n",
      "DUTCHESS          59807.990741\n",
      "MANHATTAN         59718.377450\n",
      "BRONX             58507.346325\n",
      "ORANGE            57403.000000\n",
      "Name: Base Salary, dtype: float64\n"
     ]
    }
   ],
   "source": [
    "average_base_pay = new_nyc_2021.groupby('Work Location Borough')['Base Salary'].mean().sort_values(ascending=False)\n",
    "print(average_base_pay)\n"
   ]
  },
  {
   "cell_type": "markdown",
   "metadata": {},
   "source": [
    "**Q12:** For the work location that has the highest average base salary above, which individual in that location makes the highest base salary?"
   ]
  },
  {
   "cell_type": "code",
   "execution_count": 21,
   "metadata": {},
   "outputs": [
    {
     "data": {
      "text/html": [
       "<div>\n",
       "<style scoped>\n",
       "    .dataframe tbody tr th:only-of-type {\n",
       "        vertical-align: middle;\n",
       "    }\n",
       "\n",
       "    .dataframe tbody tr th {\n",
       "        vertical-align: top;\n",
       "    }\n",
       "\n",
       "    .dataframe thead th {\n",
       "        text-align: right;\n",
       "    }\n",
       "</style>\n",
       "<table border=\"1\" class=\"dataframe\">\n",
       "  <thead>\n",
       "    <tr style=\"text-align: right;\">\n",
       "      <th></th>\n",
       "      <th>Fiscal Year</th>\n",
       "      <th>Payroll Number</th>\n",
       "      <th>Agency Name</th>\n",
       "      <th>Last Name</th>\n",
       "      <th>First Name</th>\n",
       "      <th>Mid Init</th>\n",
       "      <th>Agency Start Date</th>\n",
       "      <th>Work Location Borough</th>\n",
       "      <th>Title Description</th>\n",
       "      <th>Leave Status as of June 30</th>\n",
       "      <th>Base Salary</th>\n",
       "      <th>Pay Basis</th>\n",
       "      <th>Regular Hours</th>\n",
       "      <th>Regular Gross Paid</th>\n",
       "      <th>OT Hours</th>\n",
       "      <th>Total OT Paid</th>\n",
       "      <th>Total Other Pay</th>\n",
       "      <th>total_gross</th>\n",
       "    </tr>\n",
       "  </thead>\n",
       "  <tbody>\n",
       "    <tr>\n",
       "      <th>3932324</th>\n",
       "      <td>2021</td>\n",
       "      <td>2.0</td>\n",
       "      <td>OFFICE OF THE MAYOR</td>\n",
       "      <td>KAGAN STERNHELL</td>\n",
       "      <td>REBECCA</td>\n",
       "      <td>K</td>\n",
       "      <td>10/01/2019</td>\n",
       "      <td>WASHINGTON DC</td>\n",
       "      <td>EXECUTIVE AGENCY COUNSEL</td>\n",
       "      <td>ACTIVE</td>\n",
       "      <td>178190.0</td>\n",
       "      <td>PER ANNUM</td>\n",
       "      <td>1820.0</td>\n",
       "      <td>177688.35</td>\n",
       "      <td>0.0</td>\n",
       "      <td>0.0</td>\n",
       "      <td>-3258.9</td>\n",
       "      <td>174429.45</td>\n",
       "    </tr>\n",
       "  </tbody>\n",
       "</table>\n",
       "</div>"
      ],
      "text/plain": [
       "         Fiscal Year  Payroll Number          Agency Name        Last Name  \\\n",
       "3932324         2021             2.0  OFFICE OF THE MAYOR  KAGAN STERNHELL   \n",
       "\n",
       "        First Name Mid Init Agency Start Date Work Location Borough  \\\n",
       "3932324    REBECCA        K        10/01/2019         WASHINGTON DC   \n",
       "\n",
       "                Title Description Leave Status as of June 30  Base Salary  \\\n",
       "3932324  EXECUTIVE AGENCY COUNSEL                     ACTIVE     178190.0   \n",
       "\n",
       "         Pay Basis  Regular Hours  Regular Gross Paid  OT Hours  \\\n",
       "3932324  PER ANNUM         1820.0           177688.35       0.0   \n",
       "\n",
       "         Total OT Paid  Total Other Pay  total_gross  \n",
       "3932324            0.0          -3258.9    174429.45  "
      ]
     },
     "execution_count": 21,
     "metadata": {},
     "output_type": "execute_result"
    }
   ],
   "source": [
    "dc = new_nyc_2021[new_nyc_2021['Work Location Borough'] == 'WASHINGTON DC']\n",
    "highest_base_salary = dc[dc['Base Salary'] == dc['Base Salary'].max()]\n",
    "highest_base_salary[['First Name', 'Last Name', 'Base Salary']]\n",
    "highest_base_salary"
   ]
  },
  {
   "cell_type": "markdown",
   "metadata": {},
   "source": [
    "**Q13:** Group the 2021 data by work location and then agency name.  What are the five largest median base salaries from that grouped data? "
   ]
  },
  {
   "cell_type": "code",
   "execution_count": 22,
   "metadata": {},
   "outputs": [
    {
     "name": "stdout",
     "output_type": "stream",
     "text": [
      "    Work Location Borough                    Agency Name  Base Salary\n",
      "293         WASHINGTON DC   DEPT OF INFO TECH & TELECOMM     177904.0\n",
      "62               BROOKLYN   BROOKLYN COMMUNITY BOARD #18     162284.0\n",
      "295         WASHINGTON DC            OFFICE OF THE MAYOR     154500.0\n",
      "35                  BRONX   DEPT OF INFO TECH & TELECOMM     147213.0\n",
      "23                  BRONX  COMMUNITY COLLEGE (LAGUARDIA)     147000.0\n"
     ]
    }
   ],
   "source": [
    "grouped = new_nyc_2021.groupby(['Work Location Borough', 'Agency Name'])['Base Salary'].median().reset_index()\n",
    "largest_medians = grouped.nlargest(5, 'Base Salary')\n",
    "print(largest_medians)\n"
   ]
  },
  {
   "cell_type": "markdown",
   "metadata": {},
   "source": [
    "**Q14:** How has the cumulative total gross pay for all individuals changed over time?  Be prepared to answer just basic questions such as has it mostly increased or decreased, what year had the highest total gross pay, etc."
   ]
  },
  {
   "cell_type": "code",
   "execution_count": 23,
   "metadata": {},
   "outputs": [
    {
     "data": {
      "image/png": "[encoded data removed]",
      "text/plain": [
       "<Figure size 432x288 with 1 Axes>"
      ]
     },
     "metadata": {
      "needs_background": "light"
     },
     "output_type": "display_data"
    }
   ],
   "source": [
    "import matplotlib.pyplot as plt\n",
    "\n",
    "yearly_gross = nyc.groupby('Fiscal Year')['total_gross'].sum()\n",
    "yearly_gross\n",
    "plt.plot(yearly_gross.index, yearly_gross.values)\n",
    "plt.xlabel('Fiscal Year')\n",
    "plt.ylabel('Total Gross Pay')\n",
    "plt.title('Total Gross Pay by Fiscal Year')\n",
    "plt.show()"
   ]
  },
  {
   "cell_type": "markdown",
   "metadata": {},
   "source": [
    "**Q15:** How has the total number of employees for each fiscal year changed over time?  Again, be prepared to answer just some basic questions."
   ]
  },
  {
   "cell_type": "code",
   "execution_count": 35,
   "metadata": {},
   "outputs": [
    {
     "data": {
      "text/html": [
       "<div>\n",
       "<style scoped>\n",
       "    .dataframe tbody tr th:only-of-type {\n",
       "        vertical-align: middle;\n",
       "    }\n",
       "\n",
       "    .dataframe tbody tr th {\n",
       "        vertical-align: top;\n",
       "    }\n",
       "\n",
       "    .dataframe thead th {\n",
       "        text-align: right;\n",
       "    }\n",
       "</style>\n",
       "<table border=\"1\" class=\"dataframe\">\n",
       "  <thead>\n",
       "    <tr style=\"text-align: right;\">\n",
       "      <th></th>\n",
       "      <th>Last Name</th>\n",
       "      <th>First Name</th>\n",
       "    </tr>\n",
       "    <tr>\n",
       "      <th>Fiscal Year</th>\n",
       "      <th></th>\n",
       "      <th></th>\n",
       "    </tr>\n",
       "  </thead>\n",
       "  <tbody>\n",
       "    <tr>\n",
       "      <th>2014</th>\n",
       "      <td>103389</td>\n",
       "      <td>50127</td>\n",
       "    </tr>\n",
       "    <tr>\n",
       "      <th>2015</th>\n",
       "      <td>110188</td>\n",
       "      <td>55145</td>\n",
       "    </tr>\n",
       "    <tr>\n",
       "      <th>2016</th>\n",
       "      <td>109379</td>\n",
       "      <td>54891</td>\n",
       "    </tr>\n",
       "    <tr>\n",
       "      <th>2017</th>\n",
       "      <td>112137</td>\n",
       "      <td>58621</td>\n",
       "    </tr>\n",
       "    <tr>\n",
       "      <th>2018</th>\n",
       "      <td>111194</td>\n",
       "      <td>58605</td>\n",
       "    </tr>\n",
       "    <tr>\n",
       "      <th>2019</th>\n",
       "      <td>114067</td>\n",
       "      <td>61285</td>\n",
       "    </tr>\n",
       "    <tr>\n",
       "      <th>2020</th>\n",
       "      <td>114293</td>\n",
       "      <td>61465</td>\n",
       "    </tr>\n",
       "    <tr>\n",
       "      <th>2021</th>\n",
       "      <td>113298</td>\n",
       "      <td>59968</td>\n",
       "    </tr>\n",
       "  </tbody>\n",
       "</table>\n",
       "</div>"
      ],
      "text/plain": [
       "             Last Name  First Name\n",
       "Fiscal Year                       \n",
       "2014            103389       50127\n",
       "2015            110188       55145\n",
       "2016            109379       54891\n",
       "2017            112137       58621\n",
       "2018            111194       58605\n",
       "2019            114067       61285\n",
       "2020            114293       61465\n",
       "2021            113298       59968"
      ]
     },
     "execution_count": 35,
     "metadata": {},
     "output_type": "execute_result"
    }
   ],
   "source": [
    "nyc.groupby('Fiscal Year')[['Last Name', 'First Name']].nunique()\n"
   ]
  },
  {
   "cell_type": "markdown",
   "metadata": {},
   "source": [
    "**Q16:** For 2021, what percentage of individuals earned income per annum, per day and per hour?"
   ]
  },
  {
   "cell_type": "code",
   "execution_count": 25,
   "metadata": {},
   "outputs": [
    {
     "name": "stdout",
     "output_type": "stream",
     "text": [
      "Percentage of individuals earning income per annum: 99.37%\n",
      "Percentage of individuals earning income per day: 99.37%\n",
      "Percentage of individuals earning income per hour: 99.37%\n"
     ]
    }
   ],
   "source": [
    "new_nyc_2021['Annual Income'] = new_nyc_2021['total_gross']\n",
    "new_nyc_2021['Daily Income'] = new_nyc_2021['Annual Income'] / 365\n",
    "new_nyc_2021['Hourly Income'] = new_nyc_2021['Annual Income'] / (365 * 8)\n",
    "\n",
    "# Percentage of individuals earning income per annum\n",
    "annual_income_count = new_nyc_2021[new_nyc_2021['Annual Income'] > 0]['Annual Income'].count()\n",
    "annual_income_percent = (annual_income_count / len(new_nyc_2021)) * 100\n",
    "\n",
    "# Percentage of individuals earning income per day\n",
    "daily_income_count = new_nyc_2021[new_nyc_2021['Daily Income'] > 0]['Daily Income'].count()\n",
    "daily_income_percent = (daily_income_count / len(new_nyc_2021)) * 100\n",
    "\n",
    "# Percentage of individuals earning income per hour\n",
    "hourly_income_count = new_nyc_2021[new_nyc_2021['Hourly Income'] > 0]['Hourly Income'].count()\n",
    "hourly_income_percent = (hourly_income_count / len(new_nyc_2021)) * 100\n",
    "\n",
    "print(f\"Percentage of individuals earning income per annum: {annual_income_percent:.2f}%\")\n",
    "print(f\"Percentage of individuals earning income per day: {daily_income_percent:.2f}%\")\n",
    "print(f\"Percentage of individuals earning income per hour: {hourly_income_percent:.2f}%\")\n"
   ]
  },
  {
   "cell_type": "markdown",
   "metadata": {},
   "source": [
    "**Q17:** Create a pivot table using the median of total gross pay with the index by agency name and columns broken down by pay basis category for 2021.  Include `margins=True`.  Be prepared to answer questions based on this pivot table."
   ]
  },
  {
   "cell_type": "code",
   "execution_count": 32,
   "metadata": {},
   "outputs": [
    {
     "data": {
      "text/html": [
       "<div>\n",
       "<style scoped>\n",
       "    .dataframe tbody tr th:only-of-type {\n",
       "        vertical-align: middle;\n",
       "    }\n",
       "\n",
       "    .dataframe tbody tr th {\n",
       "        vertical-align: top;\n",
       "    }\n",
       "\n",
       "    .dataframe thead th {\n",
       "        text-align: right;\n",
       "    }\n",
       "</style>\n",
       "<table border=\"1\" class=\"dataframe\">\n",
       "  <thead>\n",
       "    <tr style=\"text-align: right;\">\n",
       "      <th>Pay Basis</th>\n",
       "      <th>PER ANNUM</th>\n",
       "      <th>PER DAY</th>\n",
       "      <th>PRORATED ANNUAL</th>\n",
       "      <th>All</th>\n",
       "    </tr>\n",
       "    <tr>\n",
       "      <th>Agency Name</th>\n",
       "      <th></th>\n",
       "      <th></th>\n",
       "      <th></th>\n",
       "      <th></th>\n",
       "    </tr>\n",
       "  </thead>\n",
       "  <tbody>\n",
       "    <tr>\n",
       "      <th>NYC HOUSING AUTHORITY</th>\n",
       "      <td>52896.91</td>\n",
       "      <td>94461.32</td>\n",
       "      <td>4661.47</td>\n",
       "      <td>60224.56</td>\n",
       "    </tr>\n",
       "    <tr>\n",
       "      <th>All</th>\n",
       "      <td>52896.91</td>\n",
       "      <td>94461.32</td>\n",
       "      <td>4661.47</td>\n",
       "      <td>60224.56</td>\n",
       "    </tr>\n",
       "  </tbody>\n",
       "</table>\n",
       "</div>"
      ],
      "text/plain": [
       "Pay Basis              PER ANNUM   PER DAY  PRORATED ANNUAL       All\n",
       "Agency Name                                                          \n",
       "NYC HOUSING AUTHORITY   52896.91  94461.32          4661.47  60224.56\n",
       "All                     52896.91  94461.32          4661.47  60224.56"
      ]
     },
     "execution_count": 32,
     "metadata": {},
     "output_type": "execute_result"
    }
   ],
   "source": [
    "import numpy as np\n",
    "\n",
    "pivot_table = pd.pivot_table(new_nyc_2021, \n",
    "                             index='Agency Name', \n",
    "                             columns='Pay Basis', \n",
    "                             values='total_gross', \n",
    "                             aggfunc=np.median, \n",
    "                             margins=True)\n",
    "\n",
    "\n",
    "pivot_table\n",
    "\n",
    "\n",
    "pivot_table2 = pd.pivot_table(new_nyc_2021[new_nyc_2021['Agency Name'] == 'NYC HOUSING AUTHORITY'], \n",
    "                             index='Agency Name', \n",
    "                             columns='Pay Basis', \n",
    "                             values='total_gross', \n",
    "                             aggfunc=np.median, \n",
    "                             margins=True)\n",
    "pivot_table2"
   ]
  },
  {
   "cell_type": "markdown",
   "metadata": {},
   "source": [
    "**Q18:** What positions (grouped by titles) pay the most based on the median total gross pay in 2021?  Show the top 10."
   ]
  },
  {
   "cell_type": "code",
   "execution_count": 27,
   "metadata": {},
   "outputs": [
    {
     "data": {
      "text/plain": [
       "Title Description\n",
       "PENSION INVESTMENT ADVISOR               349014.960\n",
       "CHAIR                                    326110.630\n",
       "CHIEF ACTUARY                            305032.320\n",
       "CAPTAIN DETAILED AS CHIEF OF TRAINING    297703.365\n",
       "FIRST DEPUTY MAYOR                       284742.280\n",
       "CHIEF FIRE MARSHAL                       279522.550\n",
       "PRESIDENT                                277859.040\n",
       "DIRECTOR OF  INVESTMENTS                 264254.050\n",
       "MAYOR                                    253064.890\n",
       "CHANCELLOR                               251872.840\n",
       "Name: total_gross, dtype: float64"
      ]
     },
     "execution_count": 27,
     "metadata": {},
     "output_type": "execute_result"
    }
   ],
   "source": [
    "top_10_positions = new_nyc_2021.groupby('Title Description')['total_gross'].median().sort_values(ascending=False).head(10)\n",
    "top_10_positions"
   ]
  },
  {
   "cell_type": "markdown",
   "metadata": {},
   "source": [
    "**Q19:** What are the top 10 agencies that have the most total number of overtime hours for 2021?  "
   ]
  },
  {
   "cell_type": "code",
   "execution_count": 28,
   "metadata": {},
   "outputs": [
    {
     "data": {
      "text/plain": [
       "Agency Name\n",
       "POLICE DEPARTMENT                 4.284072e+08\n",
       "FIRE DEPARTMENT                   3.254184e+08\n",
       "DEPARTMENT OF SANITATION          2.673596e+08\n",
       "DEPARTMENT OF CORRECTION          1.408340e+08\n",
       "NYC HOUSING AUTHORITY             1.304722e+08\n",
       "DEPARTMENT OF TRANSPORTATION      6.225231e+07\n",
       "HRA/DEPT OF SOCIAL SERVICES       4.932321e+07\n",
       "DEPT OF HEALTH/MENTAL HYGIENE     4.478850e+07\n",
       "DEPT OF ENVIRONMENT PROTECTION    4.051208e+07\n",
       "ADMIN FOR CHILDREN'S SVCS         2.220890e+07\n",
       "Name: Total OT Paid, dtype: float64"
      ]
     },
     "execution_count": 28,
     "metadata": {},
     "output_type": "execute_result"
    }
   ],
   "source": [
    "top_10_agencies = new_nyc_2021.groupby('Agency Name')['Total OT Paid'].sum().sort_values(ascending=False).head(10)\n",
    "top_10_agencies\n"
   ]
  },
  {
   "cell_type": "markdown",
   "metadata": {},
   "source": [
    "**Q20:** Attempt to do this in one line of code by using `agg`.  For the 2021 data, groupby the agency name and get the mean for the base salary, the median for the total overtime paid, and the standard deviation for the total gross paid.  Save this as an object and be prepared to index it."
   ]
  },
  {
   "cell_type": "code",
   "execution_count": 29,
   "metadata": {},
   "outputs": [
    {
     "data": {
      "text/html": [
       "<div>\n",
       "<style scoped>\n",
       "    .dataframe tbody tr th:only-of-type {\n",
       "        vertical-align: middle;\n",
       "    }\n",
       "\n",
       "    .dataframe tbody tr th {\n",
       "        vertical-align: top;\n",
       "    }\n",
       "\n",
       "    .dataframe thead th {\n",
       "        text-align: right;\n",
       "    }\n",
       "</style>\n",
       "<table border=\"1\" class=\"dataframe\">\n",
       "  <thead>\n",
       "    <tr style=\"text-align: right;\">\n",
       "      <th></th>\n",
       "      <th>Base Salary</th>\n",
       "      <th>Total OT Paid</th>\n",
       "      <th>total_gross</th>\n",
       "    </tr>\n",
       "    <tr>\n",
       "      <th>Agency Name</th>\n",
       "      <th></th>\n",
       "      <th></th>\n",
       "      <th></th>\n",
       "    </tr>\n",
       "  </thead>\n",
       "  <tbody>\n",
       "    <tr>\n",
       "      <th>ADMIN FOR CHILDREN'S SVCS</th>\n",
       "      <td>69554.036082</td>\n",
       "      <td>40.81</td>\n",
       "      <td>31768.481162</td>\n",
       "    </tr>\n",
       "    <tr>\n",
       "      <th>ADMIN TRIALS AND HEARINGS</th>\n",
       "      <td>44069.640100</td>\n",
       "      <td>0.00</td>\n",
       "      <td>39591.212265</td>\n",
       "    </tr>\n",
       "    <tr>\n",
       "      <th>BOARD OF CORRECTION</th>\n",
       "      <td>88568.766667</td>\n",
       "      <td>0.00</td>\n",
       "      <td>39908.048329</td>\n",
       "    </tr>\n",
       "    <tr>\n",
       "      <th>BOARD OF ELECTION</th>\n",
       "      <td>42831.858050</td>\n",
       "      <td>14319.54</td>\n",
       "      <td>40819.904099</td>\n",
       "    </tr>\n",
       "    <tr>\n",
       "      <th>BOARD OF ELECTION POLL WORKERS</th>\n",
       "      <td>1.008929</td>\n",
       "      <td>0.00</td>\n",
       "      <td>2177.648295</td>\n",
       "    </tr>\n",
       "    <tr>\n",
       "      <th>...</th>\n",
       "      <td>...</td>\n",
       "      <td>...</td>\n",
       "      <td>...</td>\n",
       "    </tr>\n",
       "    <tr>\n",
       "      <th>STATEN ISLAND COMMUNITY BD #2</th>\n",
       "      <td>54442.350000</td>\n",
       "      <td>0.00</td>\n",
       "      <td>60292.117307</td>\n",
       "    </tr>\n",
       "    <tr>\n",
       "      <th>STATEN ISLAND COMMUNITY BD #3</th>\n",
       "      <td>76387.000000</td>\n",
       "      <td>0.00</td>\n",
       "      <td>23567.010355</td>\n",
       "    </tr>\n",
       "    <tr>\n",
       "      <th>TAX COMMISSION</th>\n",
       "      <td>88500.804407</td>\n",
       "      <td>0.00</td>\n",
       "      <td>51682.307255</td>\n",
       "    </tr>\n",
       "    <tr>\n",
       "      <th>TAXI &amp; LIMOUSINE COMMISSION</th>\n",
       "      <td>59060.186526</td>\n",
       "      <td>0.04</td>\n",
       "      <td>30879.314886</td>\n",
       "    </tr>\n",
       "    <tr>\n",
       "      <th>TEACHERS RETIREMENT SYSTEM</th>\n",
       "      <td>82700.359258</td>\n",
       "      <td>0.00</td>\n",
       "      <td>48546.091150</td>\n",
       "    </tr>\n",
       "  </tbody>\n",
       "</table>\n",
       "<p>155 rows × 3 columns</p>\n",
       "</div>"
      ],
      "text/plain": [
       "                                 Base Salary  Total OT Paid   total_gross\n",
       "Agency Name                                                              \n",
       "ADMIN FOR CHILDREN'S SVCS       69554.036082          40.81  31768.481162\n",
       "ADMIN TRIALS AND HEARINGS       44069.640100           0.00  39591.212265\n",
       "BOARD OF CORRECTION             88568.766667           0.00  39908.048329\n",
       "BOARD OF ELECTION               42831.858050       14319.54  40819.904099\n",
       "BOARD OF ELECTION POLL WORKERS      1.008929           0.00   2177.648295\n",
       "...                                      ...            ...           ...\n",
       "STATEN ISLAND COMMUNITY BD #2   54442.350000           0.00  60292.117307\n",
       "STATEN ISLAND COMMUNITY BD #3   76387.000000           0.00  23567.010355\n",
       "TAX COMMISSION                  88500.804407           0.00  51682.307255\n",
       "TAXI & LIMOUSINE COMMISSION     59060.186526           0.04  30879.314886\n",
       "TEACHERS RETIREMENT SYSTEM      82700.359258           0.00  48546.091150\n",
       "\n",
       "[155 rows x 3 columns]"
      ]
     },
     "execution_count": 29,
     "metadata": {},
     "output_type": "execute_result"
    }
   ],
   "source": [
    "new_nyc_2021.groupby('Agency Name').agg({'Base Salary': 'mean', 'Total OT Paid': 'median', 'total_gross': 'std'})\n"
   ]
  },
  {
   "cell_type": "code",
   "execution_count": 31,
   "metadata": {},
   "outputs": [
    {
     "name": "stdout",
     "output_type": "stream",
     "text": [
      "BOARD OF ELECTION POLL WORKERS with a median base salary of 162284.0\n"
     ]
    }
   ],
   "source": [
    "highest_median_base_salary = new_nyc_2021.groupby('Agency Name')['Base Salary'].median().sort_values(ascending=False).iloc[0]\n",
    "highest_median_base_salary = new_nyc_2021.groupby('Agency Name')['Base Salary'].median().sort_values(ascending=False).iloc[0]\n",
    "agency_with_highest_median_base_salary = new_nyc_2021.groupby('Agency Name')['Base Salary'].median().idxmin()\n",
    "print(agency_with_highest_median_base_salary, \"with a median base salary of\", highest_median_base_salary)\n"
   ]
  },
  {
   "cell_type": "code",
   "execution_count": 34,
   "metadata": {},
   "outputs": [
    {
     "data": {
      "text/plain": [
       "Agency Name\n",
       "BROOKLYN COMMUNITY BOARD #18      180396.570\n",
       "DOE CUSTODIAL PAYROL              130749.470\n",
       "FINANCIAL INFO SVCS AGENCY        121308.000\n",
       "OFFICE OF COLLECTIVE BARGAININ    117705.070\n",
       "DEPARTMENT OF SANITATION          112990.065\n",
       "Name: total_gross, dtype: float64"
      ]
     },
     "execution_count": 34,
     "metadata": {},
     "output_type": "execute_result"
    }
   ],
   "source": [
    "#top 5 total_gross agencies\n",
    "\n",
    "top_5_agencies = new_nyc_2021.groupby('Agency Name')['total_gross'].median().sort_values(ascending=False).head(5)\n",
    "top_5_agencies"
   ]
  }
 ],
 "metadata": {
  "kernelspec": {
   "display_name": "Python 3 (ipykernel)",
   "language": "python",
   "name": "python3"
  },
  "language_info": {
   "codemirror_mode": {
    "name": "ipython",
    "version": 3
   },
   "file_extension": ".py",
   "mimetype": "text/x-python",
   "name": "python",
   "nbconvert_exporter": "python",
   "pygments_lexer": "ipython3",
   "version": "3.10.10"
  }
 },
 "nbformat": 4,
 "nbformat_minor": 4
}
